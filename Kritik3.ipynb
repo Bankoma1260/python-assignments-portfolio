{
 "cells": [
  {
   "cell_type": "code",
   "execution_count": 21,
   "id": "5b71918d-68c6-4613-bb3d-386700d24648",
   "metadata": {},
   "outputs": [
    {
     "name": "stdout",
     "output_type": "stream",
     "text": [
      "Test Case 1 (f(x) = x^2, c = 1, E = 0.1): (0.6837706507008909, 1.3162293341555964)\n",
      "Test Case 2 (f(x) = sin(x), c = 0.7853981633974483, E = 0.05): (0.3778622631669325, 1.1427046373033996)\n",
      "Test Case 3 (f(x) = exp(x), c = 0, E = 0.01): (-0.14484216767455982, 0.13817185767807078)\n"
     ]
    }
   ],
   "source": [
    "import math\n",
    "\n",
    "def central_difference(f, c, delta_x=1e-8):\n",
    "    return (f(c + delta_x) - f(c - delta_x)) / (2 * delta_x)\n",
    "\n",
    "def find_x1_x2(f, c, E):\n",
    "    f_prime_c = central_difference(f, c)\n",
    "    \n",
    "    f_c = f(c)\n",
    "    \n",
    "    def L(x):\n",
    "        return f_c + f_prime_c * (x - c)\n",
    "    \n",
    "    x1, x2 = None, None\n",
    "    step_size = 1e-8 \n",
    "   \n",
    "    x = c - 1  \n",
    "    while x < c:\n",
    "        error = abs(f(x) - L(x))\n",
    "        if abs(error - E) < 1e-6:  \n",
    "            x1 = x\n",
    "            break\n",
    "        x += step_size\n",
    "    \n",
    "    x = c + 1  \n",
    "    while x > c:\n",
    "        error = abs(f(x) - L(x))\n",
    "        if abs(error - E) < 1e-6: \n",
    "            x2 = x\n",
    "            break\n",
    "        x -= step_size\n",
    "    \n",
    "    if x1 is not None and x2 is not None:\n",
    "        return x1, x2\n",
    "    else:\n",
    "        return \"No solution found within the search range.\"\n",
    "\n",
    "\n",
    "def test_case_1():\n",
    "    f = lambda x: x**2  \n",
    "    c = 1\n",
    "    E = 0.1\n",
    "    result = find_x1_x2(f, c, E)\n",
    "    print(f\"Test Case 1 (f(x) = x^2, c = {c}, E = {E}): {result}\")\n",
    "\n",
    "def test_case_2():\n",
    "    f = lambda x: math.sin(x)  \n",
    "    c = math.pi / 4\n",
    "    E = 0.05\n",
    "    result = find_x1_x2(f, c, E)\n",
    "    print(f\"Test Case 2 (f(x) = sin(x), c = {c}, E = {E}): {result}\")\n",
    "\n",
    "def test_case_3():\n",
    "    f = lambda x: math.exp(x)  \n",
    "    c = 0\n",
    "    E = 0.01\n",
    "    result = find_x1_x2(f, c, E)\n",
    "    print(f\"Test Case 3 (f(x) = exp(x), c = {c}, E = {E}): {result}\")\n",
    "\n",
    "\n",
    "test_case_1()\n",
    "test_case_2()\n",
    "test_case_3()\n"
   ]
  },
  {
   "cell_type": "code",
   "execution_count": null,
   "id": "161328e2-0d7a-4e8f-971d-4f8dc4bb53bb",
   "metadata": {},
   "outputs": [],
   "source": []
  },
  {
   "cell_type": "code",
   "execution_count": null,
   "id": "b9bfb52c-cc3a-4683-9985-81fb03c2aea9",
   "metadata": {},
   "outputs": [],
   "source": []
  },
  {
   "cell_type": "code",
   "execution_count": null,
   "id": "de220c9a-1f53-46af-a512-6b6504a45f3f",
   "metadata": {},
   "outputs": [],
   "source": []
  }
 ],
 "metadata": {
  "kernelspec": {
   "display_name": "Python 3 (ipykernel)",
   "language": "python",
   "name": "python3"
  },
  "language_info": {
   "codemirror_mode": {
    "name": "ipython",
    "version": 3
   },
   "file_extension": ".py",
   "mimetype": "text/x-python",
   "name": "python",
   "nbconvert_exporter": "python",
   "pygments_lexer": "ipython3",
   "version": "3.11.9"
  }
 },
 "nbformat": 4,
 "nbformat_minor": 5
}
