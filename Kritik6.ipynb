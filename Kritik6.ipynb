{
 "cells": [
  {
   "cell_type": "code",
   "execution_count": 2,
   "id": "a3ece4fb-a540-492e-add2-f4b7ccf0a2a5",
   "metadata": {},
   "outputs": [
    {
     "name": "stdout",
     "output_type": "stream",
     "text": [
      "All values of f_X(x) are non-negative.\n"
     ]
    }
   ],
   "source": [
    "#3a\n",
    "import numpy as np\n",
    "\n",
    "def normal_density(mean, variance, x):\n",
    "    return (1 / (np.sqrt(2 * np.pi * variance))) * np.exp(-(x - mean)**2 / (2 * variance))\n",
    "    \n",
    "def check_non_negative(mean, variance, x_vals):\n",
    "    for x in x_vals:\n",
    "        pdf_value = normal_density(mean, variance, x)\n",
    "        assert pdf_value >= 0, f\"f_X({x}) = {pdf_value} is negative, which violates property (a)\"\n",
    "    print(\"All values of f_X(x) are non-negative.\")\n",
    "\n",
    "check_non_negative(mean=171, variance=7.12, x_vals=np.linspace(150, 190, 5))\n"
   ]
  },
  {
   "cell_type": "code",
   "execution_count": 10,
   "id": "3d9bb8e1-23fd-4ffe-9a27-7bb8cd77de07",
   "metadata": {},
   "outputs": [
    {
     "name": "stdout",
     "output_type": "stream",
     "text": [
      "Total integral: 1.0000000000000007, Error estimate: 8.671027629705949e-10\n"
     ]
    }
   ],
   "source": [
    "#3b\n",
    "import numpy as np\n",
    "from scipy.integrate import quad\n",
    "\n",
    "def normal_density(mean, variance, x):\n",
    "    return (1 / (np.sqrt(2 * np.pi * variance))) * np.exp(-(x - mean)**2 / (2 * variance))\n",
    "\n",
    "def verify_total_integral(mean, variance):\n",
    "    sigma = np.sqrt(variance)\n",
    "    \n",
    "    def integrand(x):\n",
    "        return normal_density(mean, variance, x)\n",
    "\n",
    "    result, error = quad(integrand, mean - 10 * sigma, mean + 10 * sigma)\n",
    "    \n",
    "    print(f\"Total integral: {result}, Error estimate: {error}\")\n",
    "    \n",
    "    assert np.isclose(result, 1), f\"Integral is not 1, but {result}\"\n",
    "\n",
    "verify_total_integral(mean=171, variance=7.12)\n"
   ]
  },
  {
   "cell_type": "code",
   "execution_count": 4,
   "id": "257d9468-5e56-48be-bb14-6af59081956e",
   "metadata": {},
   "outputs": [
    {
     "name": "stdout",
     "output_type": "stream",
     "text": [
      "Probability that a randomly chosen man has a height between 162cm and 190cm: 0.9996\n"
     ]
    }
   ],
   "source": [
    "#3c\n",
    "def integration(mean, variance, a, b, n=1000):\n",
    "    h = (b - a) / n\n",
    "    \n",
    "    integral = (normal_density(mean, variance, a) + normal_density(mean, variance, b)) / 2\n",
    "    \n",
    "    for i in range(1, n):\n",
    "        x = a + i * h\n",
    "        integral += normal_density(mean, variance, x)\n",
    "    \n",
    "    integral *= h\n",
    "    \n",
    "    return integral\n",
    "\n",
    "probability = integration(mean=171, variance=7.12, a=162, b=190)\n",
    "print(f\"Probability that a randomly chosen man has a height between 162cm and 190cm: {probability:.4f}\")\n"
   ]
  },
  {
   "cell_type": "code",
   "execution_count": 11,
   "id": "20f54174-e9fa-4280-b641-4528fefc1d0f",
   "metadata": {},
   "outputs": [
    {
     "name": "stdout",
     "output_type": "stream",
     "text": [
      "(a) Uniform Distribution: E[X] = 5.0\n",
      "(b) Exponential Distribution: E[X] = 50.0\n",
      "(c) Normal Distribution: E[D(X)] = 69610.47799999999\n"
     ]
    }
   ],
   "source": [
    "#4\n",
    "import numpy as np\n",
    "from scipy.integrate import quad\n",
    "\n",
    "# (a) Uniform Distribution: \n",
    "def uniform_expectation(a, b):\n",
    "    return (a + b) / 2\n",
    "\n",
    "# (b) Exponential Distribution: \n",
    "def exponential_expectation(lam):\n",
    "    return 1 / lam\n",
    "\n",
    "# (c) Normal Distribution: Compute E[D(X)] where D(x) = 2.38 * x^2\n",
    "def normal_expectation(mean, variance):\n",
    "    sigma_squared = variance\n",
    "    E_X_squared = mean**2 + sigma_squared\n",
    "    dosage_expectation = 2.38 * E_X_squared\n",
    "    return dosage_expectation\n",
    "\n",
    "# Test Uniform Distribution\n",
    "a = 0\n",
    "b = 10\n",
    "print(f\"(a) Uniform Distribution: E[X] = {uniform_expectation(a, b)}\")\n",
    "\n",
    "lambda_value = 1 / 50\n",
    "print(f\"(b) Exponential Distribution: E[X] = {exponential_expectation(lambda_value)}\")\n",
    "\n",
    "mean = 171\n",
    "variance = 7.1\n",
    "print(f\"(c) Normal Distribution: E[D(X)] = {normal_expectation(mean, variance)}\")\n"
   ]
  },
  {
   "cell_type": "code",
   "execution_count": null,
   "id": "7f278cdc-13eb-4e62-b45b-e45333ca5de1",
   "metadata": {},
   "outputs": [],
   "source": []
  }
 ],
 "metadata": {
  "kernelspec": {
   "display_name": "Python 3 (ipykernel)",
   "language": "python",
   "name": "python3"
  },
  "language_info": {
   "codemirror_mode": {
    "name": "ipython",
    "version": 3
   },
   "file_extension": ".py",
   "mimetype": "text/x-python",
   "name": "python",
   "nbconvert_exporter": "python",
   "pygments_lexer": "ipython3",
   "version": "3.12.8"
  }
 },
 "nbformat": 4,
 "nbformat_minor": 5
}
