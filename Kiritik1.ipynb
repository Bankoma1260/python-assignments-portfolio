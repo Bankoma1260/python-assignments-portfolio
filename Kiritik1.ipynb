{
 "cells": [
  {
   "cell_type": "code",
   "execution_count": 2,
   "id": "1f30663c-ef82-49ec-9681-3583d5bc0016",
   "metadata": {},
   "outputs": [],
   "source": [
    "def arctan(x):\n",
    "    if x >= 0 and x <= 1:\n",
    "        def error_bpund(o,p):\n",
    "            t = (o**((2*p)+1))/((2*p)+1)\n",
    "            return t\n",
    "        n = 0\n",
    "        while error_bound(x,n) > 0.0001:\n",
    "            n += 1\n",
    "            aprrox = 0\n",
    "            for i in range (n):\n",
    "                current = ((-1)**i)*(x**((2*i)+1))/((2*i)+1)\n",
    "                rapprox += current\n",
    "            else:\n",
    "                print('Error!')\n",
    "                return (approx, n, error_bound(x,n))\n",
    "            print(arcran(x))"
   ]
  },
  {
   "cell_type": "code",
   "execution_count": null,
   "id": "754ab9c2-57b7-4f56-b026-95deb66dfeca",
   "metadata": {},
   "outputs": [],
   "source": []
  }
 ],
 "metadata": {
  "kernelspec": {
   "display_name": "Python 3 (ipykernel)",
   "language": "python",
   "name": "python3"
  },
  "language_info": {
   "codemirror_mode": {
    "name": "ipython",
    "version": 3
   },
   "file_extension": ".py",
   "mimetype": "text/x-python",
   "name": "python",
   "nbconvert_exporter": "python",
   "pygments_lexer": "ipython3",
   "version": "3.12.8"
  }
 },
 "nbformat": 4,
 "nbformat_minor": 5
}
