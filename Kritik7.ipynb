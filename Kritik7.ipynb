{
 "cells": [
  {
   "cell_type": "code",
   "execution_count": 1,
   "id": "fbd32dd3-a4e9-4ffd-a4ae-f820f418dcda",
   "metadata": {},
   "outputs": [
    {
     "name": "stdout",
     "output_type": "stream",
     "text": [
      "t0: 2.2901, t*: 2.2522\n",
      "Accept H0? False\n"
     ]
    }
   ],
   "source": [
    "import numpy as np\n",
    "from scipy.special import gamma\n",
    "\n",
    "def mean_std(data):\n",
    "    \"\"\"Compute mean and standard deviation of a list.\"\"\"\n",
    "    n = len(data)\n",
    "    mean_val = sum(data) / n\n",
    "    variance = sum((x - mean_val) ** 2 for x in data) / (n - 1)\n",
    "    std_dev = variance ** 0.5\n",
    "    return mean_val, std_dev\n",
    "\n",
    "def compute_t0(data, mu0):\n",
    "    \"\"\"Compute t0 value.\"\"\"\n",
    "    mean_val, std_dev = mean_std(data)\n",
    "    n = len(data)\n",
    "    t0 = (mean_val - mu0) / (std_dev / (n ** 0.5))\n",
    "    return t0\n",
    "\n",
    "def t_distribution_pdf(x, nu):\n",
    "    \"\"\"Compute the probability density of the t-distribution.\"\"\"\n",
    "    coeff = gamma((nu + 1) / 2) / (np.sqrt(nu * np.pi) * gamma(nu / 2))\n",
    "    density = coeff * (1 + x**2 / nu) ** (-0.5 * (nu + 1))\n",
    "    return density\n",
    "\n",
    "def find_t_star(prob, nu, x_start=0, x_end=20, num_points=10000):\n",
    "    \"\"\"Find the t* value for given probability and degrees of freedom.\"\"\"\n",
    "    x = np.linspace(x_start, x_end, num_points)\n",
    "    y = t_distribution_pdf(x, nu)\n",
    "    cdf = np.cumsum(y) * (x[1] - x[0])\n",
    "    target_half_prob = prob / 2\n",
    "    index = np.where(cdf >= target_half_prob)[0][0]\n",
    "    return x[index]\n",
    "\n",
    "def perform_t_test(data, mu0, confidence=0.95):\n",
    "    \"\"\"Perform the t-test and return whether to accept or reject H0.\"\"\"\n",
    "    t0 = compute_t0(data, mu0)\n",
    "    t_star = find_t_star(confidence, len(data) - 1)\n",
    "    return -t_star <= t0 <= t_star, t0, t_star\n",
    "\n",
    "# Given test scores\n",
    "test_scores = [92.64, 79.00, 84.79, 97.41, 93.68, 65.23, 84.50, 73.49, 73.97, 79.11]\n",
    "mu0 = 75  # National average\n",
    "\n",
    "# Perform t-test\n",
    "result, t0, t_star = perform_t_test(test_scores, mu0)\n",
    "print(f\"t0: {t0:.4f}, t*: {t_star:.4f}\")\n",
    "print(\"Accept H0?\", result)\n"
   ]
  },
  {
   "cell_type": "code",
   "execution_count": null,
   "id": "e81086ab-3d1d-4a5b-8628-4a4c7ae73d7f",
   "metadata": {},
   "outputs": [],
   "source": []
  }
 ],
 "metadata": {
  "kernelspec": {
   "display_name": "Python 3 (ipykernel)",
   "language": "python",
   "name": "python3"
  },
  "language_info": {
   "codemirror_mode": {
    "name": "ipython",
    "version": 3
   },
   "file_extension": ".py",
   "mimetype": "text/x-python",
   "name": "python",
   "nbconvert_exporter": "python",
   "pygments_lexer": "ipython3",
   "version": "3.12.8"
  }
 },
 "nbformat": 4,
 "nbformat_minor": 5
}
