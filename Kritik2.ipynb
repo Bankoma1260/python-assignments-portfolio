{
 "cells": [
  {
   "cell_type": "code",
   "execution_count": 12,
   "id": "41fbf90a-b8be-48f8-835c-a8e41f2b4022",
   "metadata": {},
   "outputs": [
    {
     "name": "stdout",
     "output_type": "stream",
     "text": [
      "value at x = -1: 0\n",
      "value at x = 1: 0\n",
      "continuous at x = -1: True\n",
      "continuous at x = 2: True\n"
     ]
    }
   ],
   "source": [
    "# 3a.)\n",
    "import numpy as np\n",
    "\n",
    "def funny (x):\n",
    "    if x <=+ -1:\n",
    "        return 0\n",
    "    elif x >= 1:\n",
    "        return 0\n",
    "    else:\n",
    "        return np.exp(1-(1/(1-x**(10**250))))\n",
    "        \n",
    "# check the vlaues at x = +- 1       \n",
    "minus = funny(-1)\n",
    "plus = funny(1)\n",
    "\n",
    "# print the results  \n",
    "print(f\"value at x = -1: {minus}\")\n",
    "print(f\"value at x = 1: {plus}\")\n",
    "\n",
    "#check if the vlaues are continuous \n",
    "continuousm = (minus == 0)\n",
    "continuousp = (plus == 0)\n",
    "\n",
    "#print the results \n",
    "print(f\"continuous at x = -1: {continuousm}\")\n",
    "print(f\"continuous at x = 2: {continuousp}\")"
   ]
  },
  {
   "cell_type": "code",
   "execution_count": 13,
   "id": "8227ec75-061e-4ac3-a041-733726897601",
   "metadata": {},
   "outputs": [
    {
     "name": "stdout",
     "output_type": "stream",
     "text": [
      "value at x = -1: 0\n",
      "value at x = 1: 0\n",
      "value approaching 1 from the left: 0\n",
      "value approaching 1 from the right: 0\n",
      "continuous at x = -1: True\n",
      "continuous at x = 1: True\n",
      "continuous at x = 1 (using limits): True\n"
     ]
    }
   ],
   "source": [
    "# 3b.)\n",
    "import numpy as np\n",
    "\n",
    "def funny(x):\n",
    "    if x <= -1:\n",
    "        return 0\n",
    "    elif x >= 1:\n",
    "        return 0\n",
    "    else:\n",
    "        return np.exp(1 - (1 / (1 - x**(10**250))))\n",
    "\n",
    "# Check the values at x = -1 and x = 1\n",
    "minus = funny(-1)\n",
    "plus = funny(1)\n",
    "\n",
    "# Check values approaching 1 from the left and right\n",
    "approaching_left = funny(0.99999999999999999)  # close to 1 from the left\n",
    "approaching_right = funny(1.000000000001)  # close to 1 from the right\n",
    "\n",
    "# Print the results\n",
    "print(f\"value at x = -1: {minus}\")\n",
    "print(f\"value at x = 1: {plus}\")\n",
    "print(f\"value approaching 1 from the left: {approaching_left}\")\n",
    "print(f\"value approaching 1 from the right: {approaching_right}\")\n",
    "\n",
    "# Check if the values are continuous\n",
    "continuousm = (minus == 0)\n",
    "continuousp = (plus == 0)\n",
    "continuous_at_1 = (approaching_left == approaching_right == 0)\n",
    "\n",
    "# Print the results\n",
    "print(f\"continuous at x = -1: {continuousm}\")\n",
    "print(f\"continuous at x = 1: {continuousp}\")\n",
    "print(f\"continuous at x = 1 (using limits): {continuous_at_1}\")\n"
   ]
  },
  {
   "cell_type": "code",
   "execution_count": 18,
   "id": "17a79267-4c88-453a-b2dd-62f8d5e78081",
   "metadata": {},
   "outputs": [
    {
     "name": "stdout",
     "output_type": "stream",
     "text": [
      "Root of f(x) in interval [0.01, 1]: 0.2698741376\n",
      "Root of f(x) in interval [0, 2]: 1.9999999999\n",
      "Root of f(x) in interval [3, 4]: 3.9999999999\n",
      "Root of f(x) in interval [5, 7]: 6.9999999999\n"
     ]
    }
   ],
   "source": [
    "# 4.)\n",
    "import numpy as np\n",
    "\n",
    "def roots(f, a, b, tol=1e-10):\n",
    "   \n",
    "    while (b - a) / 2 > tol:\n",
    "        midpoint = (a + b) / 2\n",
    "        if f(midpoint) == 0:\n",
    "            return round(midpoint, 10)\n",
    "        elif f(a) * f(midpoint) < 0:\n",
    "            b = midpoint\n",
    "        else:\n",
    "            a = midpoint\n",
    "    \n",
    "    return round((a + b) / 2, 10)\n",
    "\n",
    "# Test functions\n",
    "def f1(x): return np.exp(x) + np.log(x)\n",
    "def f2(x): return np.arctan(x) - x**2\n",
    "def f3(x): return np.sin(x) - np.log(x)\n",
    "def f4(x): return np.log(np.cos(x))\n",
    "\n",
    "# Test cases\n",
    "test_cases = [\n",
    "    (f1, 0.01, 1),\n",
    "    (f2, 0, 2),\n",
    "    (f3, 3, 4),\n",
    "    (f4, 5, 7)\n",
    "]\n",
    "\n",
    "# Run the tests\n",
    "for f, a, b in test_cases:\n",
    "    root = roots(f, a, b)\n",
    "    print(f\"Root of f(x) in interval [{a}, {b}]: {root}\")"
   ]
  }
 ],
 "metadata": {
  "kernelspec": {
   "display_name": "Python 3 (ipykernel)",
   "language": "python",
   "name": "python3"
  },
  "language_info": {
   "codemirror_mode": {
    "name": "ipython",
    "version": 3
   },
   "file_extension": ".py",
   "mimetype": "text/x-python",
   "name": "python",
   "nbconvert_exporter": "python",
   "pygments_lexer": "ipython3",
   "version": "3.11.9"
  }
 },
 "nbformat": 4,
 "nbformat_minor": 5
}
